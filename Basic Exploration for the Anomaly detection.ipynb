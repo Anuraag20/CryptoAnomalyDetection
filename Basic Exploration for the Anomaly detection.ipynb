{
  "nbformat": 4,
  "nbformat_minor": 0,
  "metadata": {
    "colab": {
      "provenance": [],
      "gpuType": "T4",
      "collapsed_sections": [
        "eocpQoOuUuWZ",
        "4PBJ0VjIiUCU"
      ],
      "authorship_tag": "ABX9TyOc3MnngY0Skez/Ozl7o9CT",
      "include_colab_link": true
    },
    "kernelspec": {
      "name": "python3",
      "display_name": "Python 3"
    },
    "language_info": {
      "name": "python"
    },
    "accelerator": "GPU"
  },
  "cells": [
    {
      "cell_type": "markdown",
      "metadata": {
        "id": "view-in-github",
        "colab_type": "text"
      },
      "source": [
        "<a href=\"https://colab.research.google.com/github/Anuraag20/CryptoAnomalyDetection/blob/master/Basic%20Exploration%20for%20the%20Anomaly%20detection.ipynb\" target=\"_parent\"><img src=\"https://colab.research.google.com/assets/colab-badge.svg\" alt=\"Open In Colab\"/></a>"
      ]
    },
    {
      "cell_type": "markdown",
      "source": [
        "# Imports and Set - Up"
      ],
      "metadata": {
        "id": "eULHxdToWR1G"
      }
    },
    {
      "cell_type": "code",
      "execution_count": null,
      "metadata": {
        "id": "BxnWqViQoKsE"
      },
      "outputs": [],
      "source": [
        "import pandas as pd\n",
        "import numpy as np\n",
        "import yfinance as yf\n",
        "from datetime import datetime, timedelta\n",
        "import os\n",
        "import tensorflow as tf\n",
        "# import torch\n",
        "import matplotlib.pyplot as plt\n",
        "\n",
        "from sklearn.preprocessing import StandardScaler, MinMaxScaler"
      ]
    },
    {
      "cell_type": "code",
      "source": [
        "physical_devices = tf.config.experimental.list_physical_devices('GPU')\n",
        "if len(physical_devices) > 0:\n",
        "    print(\"We got a GPU\")\n",
        "    tf.config.experimental.set_memory_growth(physical_devices[0], False)\n",
        "else:\n",
        "    print(\"Sorry, no GPU for you...\")"
      ],
      "metadata": {
        "colab": {
          "base_uri": "https://localhost:8080/"
        },
        "id": "jk_wyl0JJGez",
        "outputId": "4cc13f1c-7492-452d-f357-55ea9bbb73b3"
      },
      "execution_count": null,
      "outputs": [
        {
          "output_type": "stream",
          "name": "stdout",
          "text": [
            "We got a GPU\n"
          ]
        },
        {
          "output_type": "stream",
          "name": "stderr",
          "text": [
            "WARNING: All log messages before absl::InitializeLog() is called are written to STDERR\n",
            "I0000 00:00:1724236878.242224     824 cuda_executor.cc:1001] could not open file to read NUMA node: /sys/bus/pci/devices/0000:01:00.0/numa_node\n",
            "Your kernel may have been built without NUMA support.\n",
            "I0000 00:00:1724236878.468325     824 cuda_executor.cc:1001] could not open file to read NUMA node: /sys/bus/pci/devices/0000:01:00.0/numa_node\n",
            "Your kernel may have been built without NUMA support.\n",
            "I0000 00:00:1724236878.468406     824 cuda_executor.cc:1001] could not open file to read NUMA node: /sys/bus/pci/devices/0000:01:00.0/numa_node\n",
            "Your kernel may have been built without NUMA support.\n"
          ]
        }
      ]
    },
    {
      "cell_type": "code",
      "source": [
        "os.environ['TF_CPP_MIN_LOG_LEVEL'] = '1'"
      ],
      "metadata": {
        "id": "IIkd-NgOEFpT"
      },
      "execution_count": null,
      "outputs": []
    },
    {
      "cell_type": "code",
      "source": [
        "device = torch.device(\"cuda:0\" if torch.cuda.is_available() else \"cpu\")\n",
        "print(device)"
      ],
      "metadata": {
        "colab": {
          "base_uri": "https://localhost:8080/",
          "height": 158
        },
        "id": "qxHVRZwPzMw8",
        "outputId": "c4e413de-39f6-4901-aba9-c736102a077b"
      },
      "execution_count": null,
      "outputs": [
        {
          "output_type": "error",
          "ename": "NameError",
          "evalue": "name 'torch' is not defined",
          "traceback": [
            "\u001b[0;31m---------------------------------------------------------------------------\u001b[0m",
            "\u001b[0;31mNameError\u001b[0m                                 Traceback (most recent call last)",
            "Cell \u001b[0;32mIn[3], line 1\u001b[0m\n\u001b[0;32m----> 1\u001b[0m device \u001b[38;5;241m=\u001b[39m \u001b[43mtorch\u001b[49m\u001b[38;5;241m.\u001b[39mdevice(\u001b[38;5;124m\"\u001b[39m\u001b[38;5;124mcuda:0\u001b[39m\u001b[38;5;124m\"\u001b[39m \u001b[38;5;28;01mif\u001b[39;00m torch\u001b[38;5;241m.\u001b[39mcuda\u001b[38;5;241m.\u001b[39mis_available() \u001b[38;5;28;01melse\u001b[39;00m \u001b[38;5;124m\"\u001b[39m\u001b[38;5;124mcpu\u001b[39m\u001b[38;5;124m\"\u001b[39m)\n\u001b[1;32m      2\u001b[0m \u001b[38;5;28mprint\u001b[39m(device)\n",
            "\u001b[0;31mNameError\u001b[0m: name 'torch' is not defined"
          ]
        }
      ]
    },
    {
      "cell_type": "code",
      "source": [
        "ticker = yf.Ticker('BTC-USD')"
      ],
      "metadata": {
        "id": "prBhQW_Cpflq"
      },
      "execution_count": null,
      "outputs": []
    },
    {
      "cell_type": "code",
      "source": [
        "data = ticker.history(start = '2024-08-19', end = '2024-08-21', interval = '1m', auto_adjust = False)\n",
        "\n",
        "data.index = data.index.tz_localize(None)\n",
        "\n",
        "data"
      ],
      "metadata": {
        "colab": {
          "base_uri": "https://localhost:8080/",
          "height": 455
        },
        "id": "iMRnJ_1gtGaE",
        "outputId": "7418adfa-52eb-4897-b6fc-51382e63cf83"
      },
      "execution_count": null,
      "outputs": [
        {
          "output_type": "execute_result",
          "data": {
            "text/plain": [
              "                             Open          High           Low         Close  \\\n",
              "Datetime                                                                      \n",
              "2024-08-19 00:00:00  58454.410156  58454.410156  58454.410156  58454.410156   \n",
              "2024-08-19 00:01:00  58453.476562  58453.476562  58453.476562  58453.476562   \n",
              "2024-08-19 00:02:00  58455.375000  58455.375000  58455.375000  58455.375000   \n",
              "2024-08-19 00:03:00  58490.679688  58490.679688  58490.679688  58490.679688   \n",
              "2024-08-19 00:04:00  58362.277344  58362.277344  58362.277344  58362.277344   \n",
              "...                           ...           ...           ...           ...   \n",
              "2024-08-20 23:54:00  59081.054688  59081.054688  59081.054688  59081.054688   \n",
              "2024-08-20 23:55:00  59065.777344  59065.777344  59065.777344  59065.777344   \n",
              "2024-08-20 23:56:00  59051.277344  59051.277344  59051.277344  59051.277344   \n",
              "2024-08-20 23:57:00  59038.882812  59038.882812  59038.882812  59038.882812   \n",
              "2024-08-20 23:58:00  59025.035156  59025.035156  59025.035156  59025.035156   \n",
              "\n",
              "                        Adj Close   Volume  Dividends  Stock Splits  \n",
              "Datetime                                                             \n",
              "2024-08-19 00:00:00  58454.410156        0        0.0           0.0  \n",
              "2024-08-19 00:01:00  58453.476562  7976960        0.0           0.0  \n",
              "2024-08-19 00:02:00  58455.375000  7022592        0.0           0.0  \n",
              "2024-08-19 00:03:00  58490.679688        0        0.0           0.0  \n",
              "2024-08-19 00:04:00  58362.277344  6373376        0.0           0.0  \n",
              "...                           ...      ...        ...           ...  \n",
              "2024-08-20 23:54:00  59081.054688        0        0.0           0.0  \n",
              "2024-08-20 23:55:00  59065.777344   710656        0.0           0.0  \n",
              "2024-08-20 23:56:00  59051.277344        0        0.0           0.0  \n",
              "2024-08-20 23:57:00  59038.882812        0        0.0           0.0  \n",
              "2024-08-20 23:58:00  59025.035156  5359616        0.0           0.0  \n",
              "\n",
              "[2142 rows x 8 columns]"
            ],
            "text/html": [
              "<div>\n",
              "<style scoped>\n",
              "    .dataframe tbody tr th:only-of-type {\n",
              "        vertical-align: middle;\n",
              "    }\n",
              "\n",
              "    .dataframe tbody tr th {\n",
              "        vertical-align: top;\n",
              "    }\n",
              "\n",
              "    .dataframe thead th {\n",
              "        text-align: right;\n",
              "    }\n",
              "</style>\n",
              "<table border=\"1\" class=\"dataframe\">\n",
              "  <thead>\n",
              "    <tr style=\"text-align: right;\">\n",
              "      <th></th>\n",
              "      <th>Open</th>\n",
              "      <th>High</th>\n",
              "      <th>Low</th>\n",
              "      <th>Close</th>\n",
              "      <th>Adj Close</th>\n",
              "      <th>Volume</th>\n",
              "      <th>Dividends</th>\n",
              "      <th>Stock Splits</th>\n",
              "    </tr>\n",
              "    <tr>\n",
              "      <th>Datetime</th>\n",
              "      <th></th>\n",
              "      <th></th>\n",
              "      <th></th>\n",
              "      <th></th>\n",
              "      <th></th>\n",
              "      <th></th>\n",
              "      <th></th>\n",
              "      <th></th>\n",
              "    </tr>\n",
              "  </thead>\n",
              "  <tbody>\n",
              "    <tr>\n",
              "      <th>2024-08-19 00:00:00</th>\n",
              "      <td>58454.410156</td>\n",
              "      <td>58454.410156</td>\n",
              "      <td>58454.410156</td>\n",
              "      <td>58454.410156</td>\n",
              "      <td>58454.410156</td>\n",
              "      <td>0</td>\n",
              "      <td>0.0</td>\n",
              "      <td>0.0</td>\n",
              "    </tr>\n",
              "    <tr>\n",
              "      <th>2024-08-19 00:01:00</th>\n",
              "      <td>58453.476562</td>\n",
              "      <td>58453.476562</td>\n",
              "      <td>58453.476562</td>\n",
              "      <td>58453.476562</td>\n",
              "      <td>58453.476562</td>\n",
              "      <td>7976960</td>\n",
              "      <td>0.0</td>\n",
              "      <td>0.0</td>\n",
              "    </tr>\n",
              "    <tr>\n",
              "      <th>2024-08-19 00:02:00</th>\n",
              "      <td>58455.375000</td>\n",
              "      <td>58455.375000</td>\n",
              "      <td>58455.375000</td>\n",
              "      <td>58455.375000</td>\n",
              "      <td>58455.375000</td>\n",
              "      <td>7022592</td>\n",
              "      <td>0.0</td>\n",
              "      <td>0.0</td>\n",
              "    </tr>\n",
              "    <tr>\n",
              "      <th>2024-08-19 00:03:00</th>\n",
              "      <td>58490.679688</td>\n",
              "      <td>58490.679688</td>\n",
              "      <td>58490.679688</td>\n",
              "      <td>58490.679688</td>\n",
              "      <td>58490.679688</td>\n",
              "      <td>0</td>\n",
              "      <td>0.0</td>\n",
              "      <td>0.0</td>\n",
              "    </tr>\n",
              "    <tr>\n",
              "      <th>2024-08-19 00:04:00</th>\n",
              "      <td>58362.277344</td>\n",
              "      <td>58362.277344</td>\n",
              "      <td>58362.277344</td>\n",
              "      <td>58362.277344</td>\n",
              "      <td>58362.277344</td>\n",
              "      <td>6373376</td>\n",
              "      <td>0.0</td>\n",
              "      <td>0.0</td>\n",
              "    </tr>\n",
              "    <tr>\n",
              "      <th>...</th>\n",
              "      <td>...</td>\n",
              "      <td>...</td>\n",
              "      <td>...</td>\n",
              "      <td>...</td>\n",
              "      <td>...</td>\n",
              "      <td>...</td>\n",
              "      <td>...</td>\n",
              "      <td>...</td>\n",
              "    </tr>\n",
              "    <tr>\n",
              "      <th>2024-08-20 23:54:00</th>\n",
              "      <td>59081.054688</td>\n",
              "      <td>59081.054688</td>\n",
              "      <td>59081.054688</td>\n",
              "      <td>59081.054688</td>\n",
              "      <td>59081.054688</td>\n",
              "      <td>0</td>\n",
              "      <td>0.0</td>\n",
              "      <td>0.0</td>\n",
              "    </tr>\n",
              "    <tr>\n",
              "      <th>2024-08-20 23:55:00</th>\n",
              "      <td>59065.777344</td>\n",
              "      <td>59065.777344</td>\n",
              "      <td>59065.777344</td>\n",
              "      <td>59065.777344</td>\n",
              "      <td>59065.777344</td>\n",
              "      <td>710656</td>\n",
              "      <td>0.0</td>\n",
              "      <td>0.0</td>\n",
              "    </tr>\n",
              "    <tr>\n",
              "      <th>2024-08-20 23:56:00</th>\n",
              "      <td>59051.277344</td>\n",
              "      <td>59051.277344</td>\n",
              "      <td>59051.277344</td>\n",
              "      <td>59051.277344</td>\n",
              "      <td>59051.277344</td>\n",
              "      <td>0</td>\n",
              "      <td>0.0</td>\n",
              "      <td>0.0</td>\n",
              "    </tr>\n",
              "    <tr>\n",
              "      <th>2024-08-20 23:57:00</th>\n",
              "      <td>59038.882812</td>\n",
              "      <td>59038.882812</td>\n",
              "      <td>59038.882812</td>\n",
              "      <td>59038.882812</td>\n",
              "      <td>59038.882812</td>\n",
              "      <td>0</td>\n",
              "      <td>0.0</td>\n",
              "      <td>0.0</td>\n",
              "    </tr>\n",
              "    <tr>\n",
              "      <th>2024-08-20 23:58:00</th>\n",
              "      <td>59025.035156</td>\n",
              "      <td>59025.035156</td>\n",
              "      <td>59025.035156</td>\n",
              "      <td>59025.035156</td>\n",
              "      <td>59025.035156</td>\n",
              "      <td>5359616</td>\n",
              "      <td>0.0</td>\n",
              "      <td>0.0</td>\n",
              "    </tr>\n",
              "  </tbody>\n",
              "</table>\n",
              "<p>2142 rows × 8 columns</p>\n",
              "</div>"
            ]
          },
          "metadata": {},
          "execution_count": 7
        }
      ]
    },
    {
      "cell_type": "code",
      "source": [
        "_ = data['Close'].plot()"
      ],
      "metadata": {
        "colab": {
          "base_uri": "https://localhost:8080/",
          "height": 441
        },
        "id": "3cl85MGMtMOB",
        "outputId": "0c67e50c-4e93-4dd4-e69f-b8487dacec15"
      },
      "execution_count": null,
      "outputs": [
        {
          "output_type": "display_data",
          "data": {
            "text/plain": [
              "<Figure size 640x480 with 1 Axes>"
            ],
            "image/png": "[encoded data removed]"
          },
          "metadata": {}
        }
      ]
    },
    {
      "cell_type": "markdown",
      "source": [
        "## Function Definitions"
      ],
      "metadata": {
        "id": "KyWlBewVUoUj"
      }
    },
    {
      "cell_type": "markdown",
      "source": [
        "### Get Windowed DF\n",
        "\n",
        "This function is more to just check what is happening to all the data when it is being windowed.\n",
        "\n",
        "- data: The data that needs to be windowed.\n",
        "- n: Number of previous datapoints to look at.\n",
        "- vars: The columns to be considered while creating the windows.\n",
        "\n",
        "Returns a dataframe"
      ],
      "metadata": {
        "id": "eocpQoOuUuWZ"
      }
    },
    {
      "cell_type": "code",
      "source": [
        "def get_windowed_df(data, n = 30, vars = ['Close']):\n",
        "\n",
        "    windowed = []\n",
        "\n",
        "    for i in range(n, data.shape[0]):\n",
        "\n",
        "\n",
        "\n",
        "        windowed.append([\n",
        "            data.iloc[[i]].index[0], # Fetching the datetime\n",
        "            data.iloc[i - n: i][vars].to_numpy(), # The 'n' previous close values\n",
        "            data.iloc[i]['Close'] # The ith close value (Target)\n",
        "        ])\n",
        "\n",
        "\n",
        "    return pd.DataFrame(windowed, columns = [\n",
        "        'datetime',\n",
        "        f'previous_{n}_for_{vars}',\n",
        "        'close'\n",
        "    ])"
      ],
      "metadata": {
        "id": "GxTlyhwgFjR6"
      },
      "execution_count": null,
      "outputs": []
    },
    {
      "cell_type": "markdown",
      "source": [
        "### Get Windowed Data\n",
        "\n",
        "This function is what returns the data that will be used to train/test the LSTM.\n",
        "\n",
        "- data: The data that needs to be windowed.\n",
        "- n: Number of previous datapoints to look at.\n",
        "- vars: The columns to be considered while creating the windows.\n",
        "\n",
        "Returns:\n",
        "- List of datetime objects (index)\n",
        "- Inputs for the model ('X')\n",
        "- Ouputs for the model ('y')"
      ],
      "metadata": {
        "id": "rxNl318iVsiz"
      }
    },
    {
      "cell_type": "code",
      "source": [
        "def get_windowed_data(X, y, dates, n = 30):\n",
        "\n",
        "    times = []\n",
        "    out_X = []\n",
        "    out_y = []\n",
        "\n",
        "    for i in range(n, X.shape[0]):\n",
        "\n",
        "        out_X.append(\n",
        "            X[i - n: i] # The 'n' previous values for the 'vars'\n",
        "         )\n",
        "        out_y.append(y[i])\n",
        "\n",
        "    return dates[n:], np.array(out_X), np.array(out_y)"
      ],
      "metadata": {
        "id": "BmyaY-aVJLW5"
      },
      "execution_count": null,
      "outputs": []
    },
    {
      "cell_type": "markdown",
      "source": [
        "## Get Scaled Windowed 'X'\n",
        "\n",
        "This function is not necessary, as the scaling is done BEFORE the data is windowed.\n",
        "\n",
        "- X: The windowed features to be scaled.\n",
        "- scalers: Pre-fit scalers that should be used on the features. If none, new ones are initialized.\n",
        "\n",
        "Returns:\n",
        "- The scaled feature values.\n",
        "- Array of scalers used."
      ],
      "metadata": {
        "id": "4PBJ0VjIiUCU"
      }
    },
    {
      "cell_type": "code",
      "source": [
        "def get_scaled_windowed_X(X, scalers = None):\n",
        "\n",
        "    if scalers is None:\n",
        "\n",
        "        scalers = np.repeat(MinMaxScaler(), X.shape[1])\n",
        "        func_name = 'fit_transform'\n",
        "\n",
        "    else:\n",
        "\n",
        "        func_name = 'transform'\n",
        "\n",
        "    for i in range(X.shape[1]):\n",
        "\n",
        "            scaler = scalers[i]\n",
        "\n",
        "            func = getattr(scaler, func_name)\n",
        "\n",
        "            X[:, i, :] = func(X[:, i, :])\n",
        "\n",
        "            scalers[i] = scaler\n",
        "\n",
        "\n",
        "    return X, scalers"
      ],
      "metadata": {
        "id": "vbu3DmAJq3C3"
      },
      "execution_count": null,
      "outputs": []
    },
    {
      "cell_type": "markdown",
      "source": [
        "# Model Training (Tensorflow LSTM)"
      ],
      "metadata": {
        "id": "fnlp6nwYWN9D"
      }
    },
    {
      "cell_type": "code",
      "source": [
        "TRAIN_IDX = round(0.8 * len(data))\n",
        "VALIDATION_IDX = TRAIN_IDX + round(0.1 * len(data))\n",
        "TEST_IDX = len(data) - 1\n",
        "LOOKBACK_WINDOW = 15\n",
        "FEATURES = ['Close', 'Open']"
      ],
      "metadata": {
        "id": "jfR6Eyoo2Grs"
      },
      "execution_count": null,
      "outputs": []
    },
    {
      "cell_type": "markdown",
      "source": [
        "## Pre - Processing"
      ],
      "metadata": {
        "id": "DtI1zAKqiRk4"
      }
    },
    {
      "cell_type": "code",
      "source": [
        "X = data[FEATURES]\n",
        "y = data['Close']"
      ],
      "metadata": {
        "id": "AmO-MrFwkBZy"
      },
      "execution_count": null,
      "outputs": []
    },
    {
      "cell_type": "code",
      "source": [
        "# pd.DataFrame.from_records(X)"
      ],
      "metadata": {
        "id": "mStxHDE_GX88"
      },
      "execution_count": null,
      "outputs": []
    },
    {
      "cell_type": "markdown",
      "source": [
        "Uncomment the line above to take a look at the structure of 'X'"
      ],
      "metadata": {
        "id": "f8xhe44KGc4k"
      }
    },
    {
      "cell_type": "code",
      "source": [
        "train_dates, X_train, y_train = X[:TRAIN_IDX].index, X[:TRAIN_IDX], y[:TRAIN_IDX].to_numpy()\n",
        "valid_dates, X_valid, y_valid = X[TRAIN_IDX: VALIDATION_IDX].index, X[TRAIN_IDX: VALIDATION_IDX], y[TRAIN_IDX: VALIDATION_IDX].to_numpy()\n",
        "test_dates, X_test, y_test = X[VALIDATION_IDX: TEST_IDX].index, X[VALIDATION_IDX: TEST_IDX], y[VALIDATION_IDX: TEST_IDX].to_numpy()\n",
        "\n",
        "\n",
        "X_train.shape, y_train.shape, X_valid.shape, y_valid.shape, X_test.shape, y_test.shape"
      ],
      "metadata": {
        "colab": {
          "base_uri": "https://localhost:8080/"
        },
        "id": "QNnfqTaFj_Es",
        "outputId": "9d42bfcd-0c5a-479b-eade-e5dc5c661e1e"
      },
      "execution_count": null,
      "outputs": [
        {
          "output_type": "execute_result",
          "data": {
            "text/plain": [
              "((1714, 2), (1714,), (214, 2), (214,), (213, 2), (213,))"
            ]
          },
          "metadata": {},
          "execution_count": 247
        }
      ]
    },
    {
      "cell_type": "code",
      "source": [
        "input_scaler = MinMaxScaler()\n",
        "X_train = input_scaler.fit_transform(X_train)\n",
        "X_valid = input_scaler.transform(X_valid)\n",
        "X_test = input_scaler.transform(X_test)\n",
        "\n",
        "output_scaler = MinMaxScaler()\n",
        "y_train = output_scaler.fit_transform(y_train.reshape(-1, 1))\n",
        "y_valid = output_scaler.transform(y_valid.reshape(-1, 1))\n",
        "y_test = output_scaler.transform(y_test.reshape(-1, 1))"
      ],
      "metadata": {
        "id": "EvafWFL8B5MZ"
      },
      "execution_count": null,
      "outputs": []
    },
    {
      "cell_type": "code",
      "source": [
        "train_dates, X_train, y_train = get_windowed_data(X_train, y_train, train_dates, n = LOOKBACK_WINDOW)\n",
        "valid_dates, X_valid, y_valid = get_windowed_data(X_valid, y_valid, valid_dates, n = LOOKBACK_WINDOW)\n",
        "test_dates, X_test, y_test = get_windowed_data(X_test, y_test, test_dates, n = LOOKBACK_WINDOW)\n",
        "\n",
        "X_train.shape, y_train.shape, X_valid.shape, y_valid.shape, X_test.shape, y_test.shape"
      ],
      "metadata": {
        "colab": {
          "base_uri": "https://localhost:8080/"
        },
        "id": "SIT5Gs70iQr5",
        "outputId": "c03d98d5-53e2-42b0-ff75-85f8558f1e94"
      },
      "execution_count": null,
      "outputs": [
        {
          "output_type": "execute_result",
          "data": {
            "text/plain": [
              "((1699, 15, 2), (1699, 1), (199, 15, 2), (199, 1), (198, 15, 2), (198, 1))"
            ]
          },
          "metadata": {},
          "execution_count": 249
        }
      ]
    },
    {
      "cell_type": "markdown",
      "source": [
        "## Model"
      ],
      "metadata": {
        "id": "XxP3Oap7i_p6"
      }
    },
    {
      "cell_type": "code",
      "source": [
        "_ = plt.plot(train_dates, y_train)\n",
        "_ = plt.plot(valid_dates, y_valid)\n",
        "_ = plt.plot(test_dates, y_test)\n"
      ],
      "metadata": {
        "colab": {
          "base_uri": "https://localhost:8080/",
          "height": 430
        },
        "id": "F3n__04J7-XC",
        "outputId": "3dbf71b3-84b9-4566-f4b5-0a4a7652d7cf"
      },
      "execution_count": null,
      "outputs": [
        {
          "output_type": "display_data",
          "data": {
            "text/plain": [
              "<Figure size 640x480 with 1 Axes>"
            ],
            "image/png": "[encoded data removed]"
          },
          "metadata": {}
        }
      ]
    },
    {
      "cell_type": "code",
      "source": [
        "from tensorflow.keras.models import Sequential\n",
        "from tensorflow.keras.layers import *\n",
        "from tensorflow.keras.callbacks import ModelCheckpoint\n",
        "from tensorflow.keras.losses import MeanSquaredError\n",
        "from tensorflow.keras.metrics import RootMeanSquaredError\n",
        "from tensorflow.keras.optimizers import Adam\n",
        "\n",
        "model1 = Sequential()\n",
        "model1.add(InputLayer((30, 1)))\n",
        "model1.add(LSTM(64))\n",
        "model1.add(Dense(8, 'relu'))\n",
        "model1.add(Dense(1, 'linear'))\n",
        "\n",
        "model1.summary()"
      ],
      "metadata": {
        "colab": {
          "base_uri": "https://localhost:8080/",
          "height": 225
        },
        "id": "gwiD4v5W4QJH",
        "outputId": "92f97688-4697-4ffa-f0a8-493c8e657a8e"
      },
      "execution_count": null,
      "outputs": [
        {
          "output_type": "display_data",
          "data": {
            "text/plain": [
              "\u001b[1mModel: \"sequential_2\"\u001b[0m\n"
            ],
            "text/html": [
              "<pre style=\"white-space:pre;overflow-x:auto;line-height:normal;font-family:Menlo,'DejaVu Sans Mono',consolas,'Courier New',monospace\"><span style=\"font-weight: bold\">Model: \"sequential_2\"</span>\n",
              "</pre>\n"
            ]
          },
          "metadata": {}
        },
        {
          "output_type": "display_data",
          "data": {
            "text/plain": [
              "┏━━━━━━━━━━━━━━━━━━━━━━━━━━━━━━━━━┳━━━━━━━━━━━━━━━━━━━━━━━━┳━━━━━━━━━━━━━━━┓\n",
              "┃\u001b[1m \u001b[0m\u001b[1mLayer (type)                   \u001b[0m\u001b[1m \u001b[0m┃\u001b[1m \u001b[0m\u001b[1mOutput Shape          \u001b[0m\u001b[1m \u001b[0m┃\u001b[1m \u001b[0m\u001b[1m      Param #\u001b[0m\u001b[1m \u001b[0m┃\n",
              "┡━━━━━━━━━━━━━━━━━━━━━━━━━━━━━━━━━╇━━━━━━━━━━━━━━━━━━━━━━━━╇━━━━━━━━━━━━━━━┩\n",
              "│ lstm_2 (\u001b[38;5;33mLSTM\u001b[0m)                   │ (\u001b[38;5;45mNone\u001b[0m, \u001b[38;5;34m64\u001b[0m)             │        \u001b[38;5;34m16,896\u001b[0m │\n",
              "├─────────────────────────────────┼────────────────────────┼───────────────┤\n",
              "│ dense_4 (\u001b[38;5;33mDense\u001b[0m)                 │ (\u001b[38;5;45mNone\u001b[0m, \u001b[38;5;34m8\u001b[0m)              │           \u001b[38;5;34m520\u001b[0m │\n",
              "├─────────────────────────────────┼────────────────────────┼───────────────┤\n",
              "│ dense_5 (\u001b[38;5;33mDense\u001b[0m)                 │ (\u001b[38;5;45mNone\u001b[0m, \u001b[38;5;34m1\u001b[0m)              │             \u001b[38;5;34m9\u001b[0m │\n",
              "└─────────────────────────────────┴────────────────────────┴───────────────┘\n"
            ],
            "text/html": [
              "<pre style=\"white-space:pre;overflow-x:auto;line-height:normal;font-family:Menlo,'DejaVu Sans Mono',consolas,'Courier New',monospace\">┏━━━━━━━━━━━━━━━━━━━━━━━━━━━━━━━━━┳━━━━━━━━━━━━━━━━━━━━━━━━┳━━━━━━━━━━━━━━━┓\n",
              "┃<span style=\"font-weight: bold\"> Layer (type)                    </span>┃<span style=\"font-weight: bold\"> Output Shape           </span>┃<span style=\"font-weight: bold\">       Param # </span>┃\n",
              "┡━━━━━━━━━━━━━━━━━━━━━━━━━━━━━━━━━╇━━━━━━━━━━━━━━━━━━━━━━━━╇━━━━━━━━━━━━━━━┩\n",
              "│ lstm_2 (<span style=\"color: #0087ff; text-decoration-color: #0087ff\">LSTM</span>)                   │ (<span style=\"color: #00d7ff; text-decoration-color: #00d7ff\">None</span>, <span style=\"color: #00af00; text-decoration-color: #00af00\">64</span>)             │        <span style=\"color: #00af00; text-decoration-color: #00af00\">16,896</span> │\n",
              "├─────────────────────────────────┼────────────────────────┼───────────────┤\n",
              "│ dense_4 (<span style=\"color: #0087ff; text-decoration-color: #0087ff\">Dense</span>)                 │ (<span style=\"color: #00d7ff; text-decoration-color: #00d7ff\">None</span>, <span style=\"color: #00af00; text-decoration-color: #00af00\">8</span>)              │           <span style=\"color: #00af00; text-decoration-color: #00af00\">520</span> │\n",
              "├─────────────────────────────────┼────────────────────────┼───────────────┤\n",
              "│ dense_5 (<span style=\"color: #0087ff; text-decoration-color: #0087ff\">Dense</span>)                 │ (<span style=\"color: #00d7ff; text-decoration-color: #00d7ff\">None</span>, <span style=\"color: #00af00; text-decoration-color: #00af00\">1</span>)              │             <span style=\"color: #00af00; text-decoration-color: #00af00\">9</span> │\n",
              "└─────────────────────────────────┴────────────────────────┴───────────────┘\n",
              "</pre>\n"
            ]
          },
          "metadata": {}
        },
        {
          "output_type": "display_data",
          "data": {
            "text/plain": [
              "\u001b[1m Total params: \u001b[0m\u001b[38;5;34m17,425\u001b[0m (68.07 KB)\n"
            ],
            "text/html": [
              "<pre style=\"white-space:pre;overflow-x:auto;line-height:normal;font-family:Menlo,'DejaVu Sans Mono',consolas,'Courier New',monospace\"><span style=\"font-weight: bold\"> Total params: </span><span style=\"color: #00af00; text-decoration-color: #00af00\">17,425</span> (68.07 KB)\n",
              "</pre>\n"
            ]
          },
          "metadata": {}
        },
        {
          "output_type": "display_data",
          "data": {
            "text/plain": [
              "\u001b[1m Trainable params: \u001b[0m\u001b[38;5;34m17,425\u001b[0m (68.07 KB)\n"
            ],
            "text/html": [
              "<pre style=\"white-space:pre;overflow-x:auto;line-height:normal;font-family:Menlo,'DejaVu Sans Mono',consolas,'Courier New',monospace\"><span style=\"font-weight: bold\"> Trainable params: </span><span style=\"color: #00af00; text-decoration-color: #00af00\">17,425</span> (68.07 KB)\n",
              "</pre>\n"
            ]
          },
          "metadata": {}
        },
        {
          "output_type": "display_data",
          "data": {
            "text/plain": [
              "\u001b[1m Non-trainable params: \u001b[0m\u001b[38;5;34m0\u001b[0m (0.00 B)\n"
            ],
            "text/html": [
              "<pre style=\"white-space:pre;overflow-x:auto;line-height:normal;font-family:Menlo,'DejaVu Sans Mono',consolas,'Courier New',monospace\"><span style=\"font-weight: bold\"> Non-trainable params: </span><span style=\"color: #00af00; text-decoration-color: #00af00\">0</span> (0.00 B)\n",
              "</pre>\n"
            ]
          },
          "metadata": {}
        }
      ]
    },
    {
      "cell_type": "code",
      "source": [
        "# cp1 = ModelCheckpoint('model1.keras', save_best_only=True)\n",
        "model1.compile(loss=MeanSquaredError(), optimizer=Adam(learning_rate=0.0001), metrics=[RootMeanSquaredError()])"
      ],
      "metadata": {
        "id": "MEoqSL7L9R-D"
      },
      "execution_count": null,
      "outputs": []
    },
    {
      "cell_type": "code",
      "source": [
        "tf.debugging.set_log_device_placement(True)"
      ],
      "metadata": {
        "id": "TXb17KFGJaRy"
      },
      "execution_count": null,
      "outputs": []
    },
    {
      "cell_type": "code",
      "source": [
        "with tf.device('/gpu:0'):\n",
        "\n",
        "  model1.fit(X_train, y_train, validation_data=(X_valid, y_valid), epochs=10, callbacks=[cp1])"
      ],
      "metadata": {
        "id": "7Tj-8c9T9aNx",
        "colab": {
          "base_uri": "https://localhost:8080/"
        },
        "outputId": "e637da40-a401-46f1-aca2-658b344d4451"
      },
      "execution_count": null,
      "outputs": [
        {
          "output_type": "stream",
          "name": "stdout",
          "text": [
            "Epoch 1/10\n",
            "\u001b[1m54/54\u001b[0m \u001b[32m━━━━━━━━━━━━━━━━━━━━\u001b[0m\u001b[37m\u001b[0m \u001b[1m2s\u001b[0m 31ms/step - loss: 0.3420 - root_mean_squared_error: 0.5837 - val_loss: 0.2846 - val_root_mean_squared_error: 0.5335\n",
            "Epoch 2/10\n",
            "\u001b[1m54/54\u001b[0m \u001b[32m━━━━━━━━━━━━━━━━━━━━\u001b[0m\u001b[37m\u001b[0m \u001b[1m2s\u001b[0m 15ms/step - loss: 0.2843 - root_mean_squared_error: 0.5323 - val_loss: 0.1575 - val_root_mean_squared_error: 0.3969\n",
            "Epoch 3/10\n",
            "\u001b[1m54/54\u001b[0m \u001b[32m━━━━━━━━━━━━━━━━━━━━\u001b[0m\u001b[37m\u001b[0m \u001b[1m1s\u001b[0m 12ms/step - loss: 0.2449 - root_mean_squared_error: 0.4944 - val_loss: 0.1282 - val_root_mean_squared_error: 0.3580\n",
            "Epoch 4/10\n",
            "\u001b[1m54/54\u001b[0m \u001b[32m━━━━━━━━━━━━━━━━━━━━\u001b[0m\u001b[37m\u001b[0m \u001b[1m1s\u001b[0m 12ms/step - loss: 0.1967 - root_mean_squared_error: 0.4434 - val_loss: 0.1020 - val_root_mean_squared_error: 0.3194\n",
            "Epoch 5/10\n",
            "\u001b[1m54/54\u001b[0m \u001b[32m━━━━━━━━━━━━━━━━━━━━\u001b[0m\u001b[37m\u001b[0m \u001b[1m1s\u001b[0m 12ms/step - loss: 0.1303 - root_mean_squared_error: 0.3599 - val_loss: 0.0569 - val_root_mean_squared_error: 0.2386\n",
            "Epoch 6/10\n",
            "\u001b[1m54/54\u001b[0m \u001b[32m━━━━━━━━━━━━━━━━━━━━\u001b[0m\u001b[37m\u001b[0m \u001b[1m1s\u001b[0m 14ms/step - loss: 0.0779 - root_mean_squared_error: 0.2789 - val_loss: 0.0485 - val_root_mean_squared_error: 0.2201\n",
            "Epoch 7/10\n",
            "\u001b[1m54/54\u001b[0m \u001b[32m━━━━━━━━━━━━━━━━━━━━\u001b[0m\u001b[37m\u001b[0m \u001b[1m1s\u001b[0m 13ms/step - loss: 0.0680 - root_mean_squared_error: 0.2607 - val_loss: 0.0383 - val_root_mean_squared_error: 0.1957\n",
            "Epoch 8/10\n",
            "\u001b[1m54/54\u001b[0m \u001b[32m━━━━━━━━━━━━━━━━━━━━\u001b[0m\u001b[37m\u001b[0m \u001b[1m1s\u001b[0m 13ms/step - loss: 0.0627 - root_mean_squared_error: 0.2503 - val_loss: 0.0389 - val_root_mean_squared_error: 0.1973\n",
            "Epoch 9/10\n",
            "\u001b[1m54/54\u001b[0m \u001b[32m━━━━━━━━━━━━━━━━━━━━\u001b[0m\u001b[37m\u001b[0m \u001b[1m1s\u001b[0m 14ms/step - loss: 0.0656 - root_mean_squared_error: 0.2557 - val_loss: 0.0486 - val_root_mean_squared_error: 0.2204\n",
            "Epoch 10/10\n",
            "\u001b[1m54/54\u001b[0m \u001b[32m━━━━━━━━━━━━━━━━━━━━\u001b[0m\u001b[37m\u001b[0m \u001b[1m1s\u001b[0m 12ms/step - loss: 0.0627 - root_mean_squared_error: 0.2502 - val_loss: 0.0496 - val_root_mean_squared_error: 0.2228\n"
          ]
        }
      ]
    }
  ]
}